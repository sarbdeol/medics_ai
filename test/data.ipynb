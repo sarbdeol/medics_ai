{
 "cells": [
  {
   "cell_type": "code",
   "execution_count": 4,
   "metadata": {},
   "outputs": [
    {
     "name": "stdout",
     "output_type": "stream",
     "text": [
      "(Ataluren,)\n",
      "\n",
      "In case of an overdose of Ataluren, it is crucial to seek immediate medical attention. It is recommended to contact the local poison control center or emergency room for assistance. The specific symptoms and treatment for an overdose may vary, and it is important to follow the guidance of healthcare professionals in such situations.\n"
     ]
    }
   ],
   "source": [
    "import spacy,json\n",
    "\n",
    "# Preprocessing: Store data in a dictionary\n",
    "# Load data from the JSON file\n",
    "with open('bnf.json', 'r') as file:\n",
    "    medicine_data = json.load(file)\n",
    "\n",
    "# Preprocess the loaded data and store it in a dictionary\n",
    "medicine_dict = {medicine[\"Name\"]: medicine for medicine in medicine_data}\n",
    "# Load English language model\n",
    "nlp = spacy.load(\"en_core_web_sm\")\n",
    "\n",
    "# Define a function to process user queries\n",
    "def process_query(query):\n",
    "    doc = nlp(query)\n",
    "    print(doc.ents)\n",
    "    for ent in doc.ents:\n",
    "        \n",
    "        medicine_name = ent.text\n",
    "        if medicine_name in medicine_dict:\n",
    "            return get_info(medicine_name, query)\n",
    "    return \"Sorry, I couldn't find information for that medicine.\"\n",
    "\n",
    "# Define a function to retrieve information based on the user query type\n",
    "def get_info(medicine_name, query):\n",
    "    if \"overdose\" in query.lower():\n",
    "        return medicine_dict[medicine_name][\"Overdose\"]\n",
    "    elif \"side effect\" in query.lower() or \"side effects\" in query.lower():\n",
    "        return medicine_dict[medicine_name][\"Side_effects\"]\n",
    "    elif \"caution\" in query.lower() or \"precaution\" in query.lower() or \"warning\" in query.lower():\n",
    "        return medicine_dict[medicine_name][\"Cautions\"]\n",
    "    elif \"unlicensed use\" in query.lower() or \"unlicensed\" in query.lower():\n",
    "        return medicine_dict[medicine_name][\"Unlicensed_use\"]\n",
    "    else:\n",
    "        return \"Please specify whether you are asking about overdose, side effects, cautions, or unlicensed use.\"\n",
    "\n",
    "\n",
    "# Example query\n",
    "query = \"i want to know about Ataluren overdose\"\n",
    "response = process_query(query)\n",
    "print(response)\n"
   ]
  },
  {
   "cell_type": "code",
   "execution_count": 4,
   "metadata": {},
   "outputs": [
    {
     "name": "stdout",
     "output_type": "stream",
     "text": [
      "\u001b[1m1/1\u001b[0m \u001b[32m━━━━━━━━━━━━━━━━━━━━\u001b[0m\u001b[37m\u001b[0m \u001b[1m0s\u001b[0m 326ms/step\n",
      "Information about Abrocitinib\n",
      "Predicted Side Effects: [0.08094482 0.08451366 0.08531938 0.08253621 0.08354881 0.08415015\n",
      " 0.08226868 0.08358397 0.08227672 0.08453757 0.08216226 0.08415776]\n",
      "Predicted Overdose: []\n",
      "Predicted Cautions: []\n",
      "Predicted Unlicensed Use: []\n"
     ]
    }
   ],
   "source": [
    "import tensorflow as tf\n",
    "\n",
    "# Load the saved model\n",
    "model = tf.keras.models.load_model('medication_info_model.keras')\n",
    "\n",
    "# Define the maximum sequence length\n",
    "max_seq_length = 100  # Set it to the maximum sequence length used during training\n",
    "\n",
    "# Create a new tokenizer instance\n",
    "tokenizer = tf.keras.preprocessing.text.Tokenizer(num_words=max_seq_length)\n",
    "\n",
    "# Function to predict medication information\n",
    "def predict_medication_info(medication_name):\n",
    "    # Convert input text to sequence\n",
    "    input_seq = tokenizer.texts_to_sequences([medication_name])\n",
    "    input_seq = tf.keras.preprocessing.sequence.pad_sequences(input_seq, maxlen=max_seq_length)\n",
    "    \n",
    "    # Predict information\n",
    "    prediction = model.predict(input_seq)\n",
    "    \n",
    "    return prediction[0]\n",
    "\n",
    "# Example usage\n",
    "medication_name = input(\"Enter the name of the medication: \")\n",
    "info = predict_medication_info(medication_name)\n",
    "print(\"Information about\", medication_name)\n",
    "print(\"Predicted Side Effects:\", info[:max_seq_length])\n",
    "print(\"Predicted Overdose:\", info[max_seq_length:2*max_seq_length])\n",
    "print(\"Predicted Cautions:\", info[2*max_seq_length:3*max_seq_length])\n",
    "print(\"Predicted Unlicensed Use:\", info[3*max_seq_length:])\n"
   ]
  }
 ],
 "metadata": {
  "kernelspec": {
   "display_name": "Python 3",
   "language": "python",
   "name": "python3"
  },
  "language_info": {
   "codemirror_mode": {
    "name": "ipython",
    "version": 3
   },
   "file_extension": ".py",
   "mimetype": "text/x-python",
   "name": "python",
   "nbconvert_exporter": "python",
   "pygments_lexer": "ipython3",
   "version": "3.10.10"
  }
 },
 "nbformat": 4,
 "nbformat_minor": 2
}
